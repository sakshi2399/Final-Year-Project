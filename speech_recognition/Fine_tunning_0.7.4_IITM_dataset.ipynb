{
  "nbformat": 4,
  "nbformat_minor": 0,
  "metadata": {
    "colab": {
      "name": "Train IITM",
      "provenance": [],
      "collapsed_sections": [],
      "toc_visible": true
    },
    "kernelspec": {
      "name": "python3",
      "display_name": "Python 3"
    },
    "accelerator": "GPU"
  },
  "cells": [
    {
      "cell_type": "markdown",
      "metadata": {
        "id": "YtpUVvcyj90W"
      },
      "source": [
        "# Train IITM\n",
        "\n",
        "\n",
        "## Add Google Cloud credentials\n",
        "\n",
        "\n",
        "---\n",
        "\n"
      ]
    },
    {
      "cell_type": "code",
      "metadata": {
        "id": "QNH2bMPKvW0W"
      },
      "source": [
        "import os \n",
        "from google.colab import auth\n",
        " \n",
        "auth.authenticate_user()\n",
        "\n",
        "os.environ[\"GOOGLE_APPLICATION_CREDENTIALS\"] = \"creds.json\"\n",
        "\n",
        "#ensure the path is set correctly\n",
        "!echo $GOOGLE_APPLICATION_CREDENTIALS\n",
        "\n",
        "project_id = '<gcloud-project-id>'\n",
        "bucket_name = 'gs://<bucket-name>'\n",
        "!gcloud config set project {project_id}"
      ],
      "execution_count": null,
      "outputs": []
    },
    {
      "cell_type": "markdown",
      "metadata": {
        "id": "XTu05kNpkFWm"
      },
      "source": [
        "## Clone DeepSpeech v0.7.4 from GitHub\n",
        "\n",
        "Download corresponding checkpoint also\n",
        "\n",
        "`/content/model_checkpoints/ ` is where we'll be storing our model checkpoints\n"
      ]
    },
    {
      "cell_type": "code",
      "metadata": {
        "id": "lMvJI2h_Z2da"
      },
      "source": [
        "!git clone --branch v0.7.4 https://github.com/mozilla/DeepSpeech\n",
        "\n",
        "!wget https://github.com/mozilla/DeepSpeech/releases/download/v0.7.4/deepspeech-0.7.4-checkpoint.tar.gz\n",
        "!tar -xvf deepspeech-0.7.4-checkpoint.tar.gz -C /content/model_checkpoints/ "
      ],
      "execution_count": null,
      "outputs": []
    },
    {
      "cell_type": "markdown",
      "metadata": {
        "id": "3PoTD3LskK-J"
      },
      "source": [
        "## Install DeepSpeech Dependencies"
      ]
    },
    {
      "cell_type": "code",
      "metadata": {
        "id": "In4HqOMdrg8n"
      },
      "source": [
        "%cd /content/\n",
        "!sudo apt-get install python3-venv\n",
        "!sudo apt-get install python3-dev\n",
        "!pip install --upgrade pip\n",
        "!sudo apt-get install sox\n",
        "!sudo apt-get install sox libsox-fmt-mp3\n",
        "!sudo apt install git\n",
        "!pip install librosa==0.7.2\n",
        "!sudo apt-get install pciutils\n",
        "!lspci | grep -i nvidia"
      ],
      "execution_count": null,
      "outputs": []
    },
    {
      "cell_type": "code",
      "metadata": {
        "id": "G05KD7hCWt8R"
      },
      "source": [
        "!wget https://github.com/git-lfs/git-lfs/releases/download/v2.11.0/git-lfs-linux-amd64-v2.11.0.tar.gz\n",
        "!tar xvf /content/git-lfs-linux-amd64-v2.11.0.tar.gz -C /content\n",
        "!sudo bash /content/install.sh\n",
        "%cd /content/DeepSpeech\n",
        "!git-lfs pull"
      ],
      "execution_count": null,
      "outputs": []
    },
    {
      "cell_type": "code",
      "metadata": {
        "id": "hCUFMVcOG0jn"
      },
      "source": [
        "!wget https://github.com/mozilla/DeepSpeech/releases/download/v0.7.4/ds_ctcdecoder-0.7.4-cp36-cp36m-manylinux1_x86_64.whl\n",
        "!pip install /content/DeepSpeech/ds_ctcdecoder-0.7.4-cp36-cp36m-manylinux1_x86_64.whl"
      ],
      "execution_count": null,
      "outputs": []
    },
    {
      "cell_type": "code",
      "metadata": {
        "id": "Gh8FbYPNrzZx"
      },
      "source": [
        "!pip3 install folium==0.2.1\n",
        "!pip3 install --upgrade pip==20.0.2 wheel==0.34.2 setuptools==46.1.3\n",
        "!pip3 install --upgrade --force-reinstall -e .\n",
        "\n",
        "# Restart Colab after this cell"
      ],
      "execution_count": null,
      "outputs": []
    },
    {
      "cell_type": "code",
      "metadata": {
        "id": "LqmBOb9KnYqs",
        "colab": {
          "base_uri": "https://localhost:8080/",
          "height": 447
        },
        "outputId": "091c0551-c5c6-40c6-e593-571471247234"
      },
      "source": [
        "!nvcc --version\n",
        "!nvidia-smi"
      ],
      "execution_count": null,
      "outputs": [
        {
          "output_type": "stream",
          "text": [
            "nvcc: NVIDIA (R) Cuda compiler driver\n",
            "Copyright (c) 2005-2019 NVIDIA Corporation\n",
            "Built on Sun_Jul_28_19:07:16_PDT_2019\n",
            "Cuda compilation tools, release 10.1, V10.1.243\n",
            "Sat Jul 11 04:47:43 2020       \n",
            "+-----------------------------------------------------------------------------+\n",
            "| NVIDIA-SMI 450.36.06    Driver Version: 418.67       CUDA Version: 10.1     |\n",
            "|-------------------------------+----------------------+----------------------+\n",
            "| GPU  Name        Persistence-M| Bus-Id        Disp.A | Volatile Uncorr. ECC |\n",
            "| Fan  Temp  Perf  Pwr:Usage/Cap|         Memory-Usage | GPU-Util  Compute M. |\n",
            "|                               |                      |               MIG M. |\n",
            "|===============================+======================+======================|\n",
            "|   0  Tesla P4            Off  | 00000000:00:04.0 Off |                    0 |\n",
            "| N/A   38C    P8     7W /  75W |      0MiB /  7611MiB |      0%      Default |\n",
            "|                               |                      |                 ERR! |\n",
            "+-------------------------------+----------------------+----------------------+\n",
            "                                                                               \n",
            "+-----------------------------------------------------------------------------+\n",
            "| Processes:                                                                  |\n",
            "|  GPU   GI   CI        PID   Type   Process name                  GPU Memory |\n",
            "|        ID   ID                                                   Usage      |\n",
            "|=============================================================================|\n",
            "|  No running processes found                                                 |\n",
            "+-----------------------------------------------------------------------------+\n"
          ],
          "name": "stdout"
        }
      ]
    },
    {
      "cell_type": "markdown",
      "metadata": {
        "id": "hrjT3CwskVII"
      },
      "source": [
        "## Set default CUDA version\n",
        "\n",
        "Default CUDA version in Colab is 10.1, need to change to 10.0"
      ]
    },
    {
      "cell_type": "code",
      "metadata": {
        "id": "pQIMGUGzU09V",
        "colab": {
          "base_uri": "https://localhost:8080/",
          "height": 91
        },
        "outputId": "c6e84098-5fc3-4ec0-a897-d9eac531d6b5"
      },
      "source": [
        "! echo $PATH\n",
        "\n",
        "import os\n",
        "os.environ['PATH'] += \":/usr/local/cuda-10.0/bin\"\n",
        "os.environ['CUDADIR'] = \"/usr/local/cuda-10.0\"\n",
        "os.environ['LD_LIBRARY_PATH'] = \"/usr/lib64-nvidia:/usr/local/cuda-10.0/lib64\"\n",
        "\n",
        "!echo $PATH\n",
        "!echo $LD_LIBRARY_PATH\n",
        "!source ~/.bashrc"
      ],
      "execution_count": null,
      "outputs": [
        {
          "output_type": "stream",
          "text": [
            "/usr/local/nvidia/bin:/usr/local/cuda/bin:/usr/local/sbin:/usr/local/bin:/usr/sbin:/usr/bin:/sbin:/bin:/tools/node/bin:/tools/google-cloud-sdk/bin:/opt/bin\n",
            "/usr/local/nvidia/bin:/usr/local/cuda/bin:/usr/local/sbin:/usr/local/bin:/usr/sbin:/usr/bin:/sbin:/bin:/tools/node/bin:/tools/google-cloud-sdk/bin:/opt/bin:/usr/local/cuda-10.0/bin\n",
            "/usr/lib64-nvidia:/usr/local/cuda-10.0/lib64\n"
          ],
          "name": "stdout"
        }
      ]
    },
    {
      "cell_type": "code",
      "metadata": {
        "id": "lAIdPjFyWYh5",
        "colab": {
          "base_uri": "https://localhost:8080/",
          "height": 163
        },
        "outputId": "75b2d8ee-f2f3-48d1-927a-d5eff53e0920"
      },
      "source": [
        "!env | grep -i cuda"
      ],
      "execution_count": null,
      "outputs": [
        {
          "output_type": "stream",
          "text": [
            "LD_LIBRARY_PATH=/usr/lib64-nvidia:/usr/local/cuda-10.0/lib64\n",
            "CUDADIR=/usr/local/cuda-10.0\n",
            "LIBRARY_PATH=/usr/local/cuda/lib64/stubs\n",
            "CUDA_PKG_VERSION=10-1=10.1.243-1\n",
            "CUDA_VERSION=10.1.243\n",
            "NVIDIA_REQUIRE_CUDA=cuda>=10.1 brand=tesla,driver>=384,driver<385 brand=tesla,driver>=396,driver<397 brand=tesla,driver>=410,driver<411\n",
            "PATH=/usr/local/nvidia/bin:/usr/local/cuda/bin:/usr/local/sbin:/usr/local/bin:/usr/sbin:/usr/bin:/sbin:/bin:/tools/node/bin:/tools/google-cloud-sdk/bin:/opt/bin:/usr/local/cuda-10.0/bin\n"
          ],
          "name": "stdout"
        }
      ]
    },
    {
      "cell_type": "code",
      "metadata": {
        "id": "T9PYZIcjUWbK",
        "colab": {
          "base_uri": "https://localhost:8080/",
          "height": 1000
        },
        "outputId": "1bd0d72b-5fc1-4ca1-b69a-ea5056ab3cc2"
      },
      "source": [
        "%cd /content/\n",
        "!wget https://developer.download.nvidia.com/compute/cuda/repos/ubuntu1804/x86_64/cuda-repo-ubuntu1804_10.0.130-1_amd64.deb\n",
        "!sudo apt-get install freeglut3 freeglut3-dev libxi-dev libxmu-dev\n",
        "!sudo apt-get install build-essential dkms\n",
        "!sudo dpkg -i cuda-repo-ubuntu1804_10.0.130-1_amd64.deb\n",
        "!sudo apt-key adv --fetch-keys https://developer.download.nvidia.com/compute/cuda/repos/ubuntu1804/x86_64/7fa2af80.pub\n",
        "\n",
        "!sudo apt-get update\n",
        "!sudo apt-get install cuda-10-0"
      ],
      "execution_count": null,
      "outputs": [
        {
          "output_type": "stream",
          "text": [
            "/content\n",
            "--2020-07-11 04:48:13--  https://developer.download.nvidia.com/compute/cuda/repos/ubuntu1804/x86_64/cuda-repo-ubuntu1804_10.0.130-1_amd64.deb\n",
            "Resolving developer.download.nvidia.com (developer.download.nvidia.com)... 152.199.20.126\n",
            "Connecting to developer.download.nvidia.com (developer.download.nvidia.com)|152.199.20.126|:443... connected.\n",
            "HTTP request sent, awaiting response... 200 OK\n",
            "Length: 2940 (2.9K) [application/x-deb]\n",
            "Saving to: ‘cuda-repo-ubuntu1804_10.0.130-1_amd64.deb’\n",
            "\n",
            "cuda-repo-ubuntu180 100%[===================>]   2.87K  --.-KB/s    in 0s      \n",
            "\n",
            "2020-07-11 04:48:13 (154 MB/s) - ‘cuda-repo-ubuntu1804_10.0.130-1_amd64.deb’ saved [2940/2940]\n",
            "\n",
            "Reading package lists... Done\n",
            "Building dependency tree       \n",
            "Reading state information... Done\n",
            "libxi-dev is already the newest version (2:1.7.9-1).\n",
            "libxi-dev set to manually installed.\n",
            "libxmu-dev is already the newest version (2:1.1.2-2).\n",
            "libxmu-dev set to manually installed.\n",
            "freeglut3 is already the newest version (2.8.1-3).\n",
            "freeglut3 set to manually installed.\n",
            "freeglut3-dev is already the newest version (2.8.1-3).\n",
            "freeglut3-dev set to manually installed.\n",
            "The following package was automatically installed and is no longer required:\n",
            "  libnvidia-common-440\n",
            "Use 'sudo apt autoremove' to remove it.\n",
            "0 upgraded, 0 newly installed, 0 to remove and 33 not upgraded.\n",
            "Reading package lists... Done\n",
            "Building dependency tree       \n",
            "Reading state information... Done\n",
            "build-essential is already the newest version (12.4ubuntu1).\n",
            "dkms is already the newest version (2.3-3ubuntu9.7).\n",
            "dkms set to manually installed.\n",
            "The following package was automatically installed and is no longer required:\n",
            "  libnvidia-common-440\n",
            "Use 'sudo apt autoremove' to remove it.\n",
            "0 upgraded, 0 newly installed, 0 to remove and 33 not upgraded.\n",
            "Selecting previously unselected package cuda-repo-ubuntu1804.\n",
            "(Reading database ... 144549 files and directories currently installed.)\n",
            "Preparing to unpack cuda-repo-ubuntu1804_10.0.130-1_amd64.deb ...\n",
            "Unpacking cuda-repo-ubuntu1804 (10.0.130-1) ...\n",
            "Setting up cuda-repo-ubuntu1804 (10.0.130-1) ...\n",
            "\n",
            "Configuration file '/etc/apt/sources.list.d/cuda.list'\n",
            " ==> File on system created by you or by a script.\n",
            " ==> File also in package provided by package maintainer.\n",
            "   What would you like to do about it ?  Your options are:\n",
            "    Y or I  : install the package maintainer's version\n",
            "    N or O  : keep your currently-installed version\n",
            "      D     : show the differences between the versions\n",
            "      Z     : start a shell to examine the situation\n",
            " The default action is to keep your current version.\n",
            "*** cuda.list (Y/I/N/O/D/Z) [default=N] ? y\n",
            "Installing new version of config file /etc/apt/sources.list.d/cuda.list ...\n",
            "Executing: /tmp/apt-key-gpghome.GCE8yoMt1l/gpg.1.sh --fetch-keys https://developer.download.nvidia.com/compute/cuda/repos/ubuntu1804/x86_64/7fa2af80.pub\n",
            "gpg: requesting key from 'https://developer.download.nvidia.com/compute/cuda/repos/ubuntu1804/x86_64/7fa2af80.pub'\n",
            "gpg: key F60F4B3D7FA2AF80: \"cudatools <cudatools@nvidia.com>\" not changed\n",
            "gpg: Total number processed: 1\n",
            "gpg:              unchanged: 1\n",
            "Hit:1 http://ppa.launchpad.net/graphics-drivers/ppa/ubuntu bionic InRelease\n",
            "Hit:2 http://archive.ubuntu.com/ubuntu bionic InRelease\n",
            "Get:3 http://security.ubuntu.com/ubuntu bionic-security InRelease [88.7 kB]\n",
            "Get:4 https://cloud.r-project.org/bin/linux/ubuntu bionic-cran35/ InRelease [3,626 B]\n",
            "Get:5 http://ppa.launchpad.net/marutter/c2d4u3.5/ubuntu bionic InRelease [15.4 kB]\n",
            "Get:6 http://archive.ubuntu.com/ubuntu bionic-updates InRelease [88.7 kB]\n",
            "Get:7 http://archive.ubuntu.com/ubuntu bionic-backports InRelease [74.6 kB]\n",
            "Ign:8 http://developer.download.nvidia.com/compute/cuda/repos/ubuntu1804/x86_64  InRelease\n",
            "Get:9 http://developer.download.nvidia.com/compute/cuda/repos/ubuntu1804/x86_64  Release [697 B]\n",
            "Get:10 http://developer.download.nvidia.com/compute/cuda/repos/ubuntu1804/x86_64  Release.gpg [836 B]\n",
            "Ign:11 https://developer.download.nvidia.com/compute/machine-learning/repos/ubuntu1804/x86_64  InRelease\n",
            "Get:12 https://developer.download.nvidia.com/compute/machine-learning/repos/ubuntu1804/x86_64  Release [564 B]\n",
            "Get:13 https://developer.download.nvidia.com/compute/machine-learning/repos/ubuntu1804/x86_64  Release.gpg [833 B]\n",
            "Get:14 https://cloud.r-project.org/bin/linux/ubuntu bionic-cran35/ Packages [94.1 kB]\n",
            "Get:15 http://ppa.launchpad.net/marutter/c2d4u3.5/ubuntu bionic/main Sources [1,846 kB]\n",
            "Get:16 http://security.ubuntu.com/ubuntu bionic-security/multiverse amd64 Packages [9,282 B]\n",
            "Get:17 http://security.ubuntu.com/ubuntu bionic-security/restricted amd64 Packages [89.0 kB]\n",
            "Get:18 http://security.ubuntu.com/ubuntu bionic-security/main amd64 Packages [1,003 kB]\n",
            "Get:19 http://ppa.launchpad.net/marutter/c2d4u3.5/ubuntu bionic/main amd64 Packages [891 kB]\n",
            "Get:20 http://security.ubuntu.com/ubuntu bionic-security/universe amd64 Packages [869 kB]\n",
            "Get:21 http://archive.ubuntu.com/ubuntu bionic-updates/restricted amd64 Packages [103 kB]\n",
            "Get:22 http://archive.ubuntu.com/ubuntu bionic-updates/universe amd64 Packages [1,405 kB]\n",
            "Get:23 http://archive.ubuntu.com/ubuntu bionic-updates/multiverse amd64 Packages [13.6 kB]\n",
            "Get:24 http://archive.ubuntu.com/ubuntu bionic-updates/main amd64 Packages [1,303 kB]\n",
            "Get:25 https://developer.download.nvidia.com/compute/machine-learning/repos/ubuntu1804/x86_64  Packages [41.2 kB]\n",
            "Ign:26 http://developer.download.nvidia.com/compute/cuda/repos/ubuntu1804/x86_64  Packages\n",
            "Get:26 http://developer.download.nvidia.com/compute/cuda/repos/ubuntu1804/x86_64  Packages [214 kB]\n",
            "Fetched 8,155 kB in 1s (6,455 kB/s)\n",
            "Reading package lists... Done\n",
            "Reading package lists... Done\n",
            "Building dependency tree       \n",
            "Reading state information... Done\n",
            "cuda-10-0 is already the newest version (10.0.130-1).\n",
            "The following package was automatically installed and is no longer required:\n",
            "  libnvidia-common-440\n",
            "Use 'sudo apt autoremove' to remove it.\n",
            "0 upgraded, 0 newly installed, 0 to remove and 82 not upgraded.\n"
          ],
          "name": "stdout"
        }
      ]
    },
    {
      "cell_type": "code",
      "metadata": {
        "id": "xfmQXkY1Ve5B",
        "colab": {
          "base_uri": "https://localhost:8080/",
          "height": 322
        },
        "outputId": "8ffd2672-4391-4dd5-a608-d81e79712098"
      },
      "source": [
        "!sudo rm /usr/local/cuda\n",
        "!sudo ln -s /usr/local/cuda-10.0 /usr/local/cuda\n",
        "%ls -l /usr/local/"
      ],
      "execution_count": null,
      "outputs": [
        {
          "output_type": "stream",
          "text": [
            "total 68\n",
            "drwxr-xr-x  1 root root 4096 Jul 11 04:45 \u001b[0m\u001b[01;34mbin\u001b[0m/\n",
            "lrwxrwxrwx  1 root root   20 Jul 11 04:48 \u001b[01;36mcuda\u001b[0m -> \u001b[01;34m/usr/local/cuda-10.0\u001b[0m/\n",
            "drwxr-xr-x 16 root root 4096 Jun 26 16:18 \u001b[01;34mcuda-10.0\u001b[0m/\n",
            "drwxr-xr-x  1 root root 4096 Jun 26 16:20 \u001b[01;34mcuda-10.1\u001b[0m/\n",
            "drwxr-xr-x  1 root root 4096 Jun 26 16:27 \u001b[01;34metc\u001b[0m/\n",
            "drwxr-xr-x  2 root root 4096 Oct 29  2019 \u001b[01;34mgames\u001b[0m/\n",
            "drwxr-xr-x  2 root root 4096 Jun 26 16:38 \u001b[01;34m_gcs_config_ops.so\u001b[0m/\n",
            "drwxr-xr-x  1 root root 4096 Jun 26 16:46 \u001b[01;34minclude\u001b[0m/\n",
            "drwxr-xr-x  1 root root 4096 Jun 26 16:47 \u001b[01;34mlib\u001b[0m/\n",
            "-rw-r--r--  1 root root 1636 Jun 26 16:40 LICENSE.txt\n",
            "lrwxrwxrwx  1 root root    9 Oct 29  2019 \u001b[01;36mman\u001b[0m -> \u001b[01;34mshare/man\u001b[0m/\n",
            "drwxr-xr-x  2 root root 4096 Oct 29  2019 \u001b[01;34msbin\u001b[0m/\n",
            "-rw-r--r--  1 root root 7291 Jun 26 16:40 setup.cfg\n",
            "drwxr-xr-x  1 root root 4096 Jun 26 16:27 \u001b[01;34mshare\u001b[0m/\n",
            "drwxr-xr-x  2 root root 4096 Oct 29  2019 \u001b[01;34msrc\u001b[0m/\n",
            "drwxr-xr-x  2 root root 4096 Jun 26 16:48 \u001b[01;34mxgboost\u001b[0m/\n"
          ],
          "name": "stdout"
        }
      ]
    },
    {
      "cell_type": "code",
      "metadata": {
        "id": "ieUKoXLJOTHN"
      },
      "source": [
        "!pip3 uninstall tensorflow\n",
        "!pip3 install 'tensorflow-gpu==1.15.2'"
      ],
      "execution_count": null,
      "outputs": []
    },
    {
      "cell_type": "markdown",
      "metadata": {
        "id": "wP5F_GyXkgwt"
      },
      "source": [
        "## If you get a broken-install error while installing, run this"
      ]
    },
    {
      "cell_type": "code",
      "metadata": {
        "id": "2aL2GoNpD-pf"
      },
      "source": [
        "!sudo apt-get -o Dpkg::Options::=\"--force-overwrite\" install --fix-broken"
      ],
      "execution_count": null,
      "outputs": []
    },
    {
      "cell_type": "markdown",
      "metadata": {
        "id": "6swZ0Gx5ksbZ"
      },
      "source": [
        "## Copy data to Colab from Google Bucket"
      ]
    },
    {
      "cell_type": "code",
      "metadata": {
        "id": "M9BPncVgmJRB"
      },
      "source": [
        "%cd /content/\n",
        "\n",
        "!gsutil cp gs://bucket-name/hindi_female_english.zip /content/hindi_female_english.zip\n",
        "!gsutil cp gs://bucket-name/hindi_male_english.zip /content/hindi_male_english.zip\n",
        "\n",
        "!unzip hindi_female_english.zip -d /content/hindi_female_english\n",
        "!unzip hindi_male_english.zip -d /content/hindi_male_english"
      ],
      "execution_count": null,
      "outputs": []
    },
    {
      "cell_type": "markdown",
      "metadata": {
        "id": "s8QNPC6plRGv"
      },
      "source": [
        "## Check for extra characters not in alphabet.txt\n",
        "\n",
        "---\n",
        "\n",
        "You might need to comment out some lines in `check_characters.py` to get it to work. Run this for all three files as a sanity check before training to avoid future errors.\n",
        "\n",
        "NOTE: Don't change the original alphabet until you know exactly what you're doing. If you use the original alphabet, you can use the scorer file to improve predictions.\n",
        "\n",
        "After commenting out some lines, this is how line 44 should look like\n",
        "```\n",
        "if not args.disable_unicode_variants:\n",
        "  unicode_transcript = unicodedata.normalize(\"NFKC\", row[2])\n",
        "  #if row[2] != unicode_transcript:\n",
        "    #print(\"Your input file\", in_file, \"contains at least one transript with unicode chars on more than one code-point: '{}'. Consider using NFKC normalization: unicodedata.normalize('NFKC', str).\".format(row[2]))\n",
        "    #sys.exit(-1)\n",
        "all_text |= set(row[2])\n",
        "\n",
        "```\n",
        "\n"
      ]
    },
    {
      "cell_type": "code",
      "metadata": {
        "id": "f9CigY7FxZ-8"
      },
      "source": [
        "!python3 /content/DeepSpeech/training/deepspeech_training/util/check_characters.py -csv /content/train.csv -alpha\n",
        "!python3 /content/DeepSpeech/training/deepspeech_training/util/check_characters.py -csv /content/dev.csv -alpha\n",
        "!python3 /content/DeepSpeech/training/deepspeech_training/util/check_characters.py -csv /content/test.csv -alpha"
      ],
      "execution_count": null,
      "outputs": []
    },
    {
      "cell_type": "markdown",
      "metadata": {
        "id": "672jfsrrlWMf"
      },
      "source": [
        "## Training"
      ]
    },
    {
      "cell_type": "code",
      "metadata": {
        "id": "rAY5c6vyMHhd"
      },
      "source": [
        "%cd /content/DeepSpeech\n",
        "!python3 DeepSpeech.py --train_cudnn True --early_stop True --es_epochs 6 --n_hidden 2048 --epochs 30 \\\n",
        "  --export_dir /content/models/ --checkpoint_dir /content/model_checkpoints/ \\\n",
        "  --train_files /content/train.csv --dev_files /content/dev.csv --test_files /content/test.csv \\\n",
        "  --learning_rate 0.0001 --train_batch_size 64 --test_batch_size 32 --dev_batch_size 32 --export_file_name 'ft_model' \\\n",
        "  --augment reverb[p=0.2,delay=50.0~30.0,decay=10.0:2.0~1.0] \\\n",
        "  --augment volume[p=0.2,dbfs=-10:-40] \\\n",
        "  --augment pitch[p=0.2,pitch=1~0.2] \\\n",
        "  --augment tempo[p=0.2,factor=1~0.5] "
      ],
      "execution_count": null,
      "outputs": []
    },
    {
      "cell_type": "markdown",
      "metadata": {
        "id": "kBPXwX6G4SBT"
      },
      "source": [
        "## Exporting the model for inference"
      ]
    },
    {
      "cell_type": "code",
      "metadata": {
        "id": "vuHY7yDIxpBC"
      },
      "source": [
        "%cd /content/DeepSpeech/\n",
        "!python3 util/taskcluster.py --source tensorflow --artifact convert_graphdef_memmapped_format --branch r1.15 --target .\n",
        "!./convert_graphdef_memmapped_format --in_graph=/content/models/ft_model.pb --out_graph=/content/models/ft_model.pbmm"
      ],
      "execution_count": null,
      "outputs": []
    }
  ]
}